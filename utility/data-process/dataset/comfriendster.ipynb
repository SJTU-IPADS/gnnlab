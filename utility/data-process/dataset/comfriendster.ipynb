{
 "metadata": {
  "language_info": {
   "codemirror_mode": {
    "name": "ipython",
    "version": 3
   },
   "file_extension": ".py",
   "mimetype": "text/x-python",
   "name": "python",
   "nbconvert_exporter": "python",
   "pygments_lexer": "ipython3",
   "version": 3
  },
  "orig_nbformat": 4
 },
 "nbformat": 4,
 "nbformat_minor": 2,
 "cells": [
  {
   "cell_type": "code",
   "execution_count": null,
   "metadata": {},
   "outputs": [],
   "source": [
    "import os\n",
    "import numpy as np\n",
    "import pandas as pd\n",
    "from scipy.sparse import coo_matrix, csr_matrix"
   ]
  },
  {
   "cell_type": "code",
   "execution_count": null,
   "metadata": {},
   "outputs": [],
   "source": [
    "src_dir = '/graph-learning/data-raw/com-friendster-bin/'\n",
    "output_dir = '/graph-learning/samgraph/com-friendster/'"
   ]
  },
  {
   "cell_type": "code",
   "execution_count": null,
   "metadata": {},
   "outputs": [],
   "source": [
    "num_nodes = 65608366\n",
    "num_edges = 1806067135\n",
    "row = np.memmap(os.path.join(src_dir, 'coo_row.bin'), dtype='uint32', mode='r', shape=(num_edges,))\n",
    "col = np.memmap(os.path.join(src_dir, 'coo_col.bin'), dtype='uint32', mode='r', shape=(num_edges,))"
   ]
  },
  {
   "cell_type": "code",
   "execution_count": null,
   "metadata": {},
   "outputs": [],
   "source": [
    "src = np.concatenate((row, col))\n",
    "dst = np.concatenate((col, row))\n",
    "data = np.zeros(src.shape)"
   ]
  },
  {
   "cell_type": "code",
   "execution_count": null,
   "metadata": {},
   "outputs": [],
   "source": [
    "coo = coo_matrix((data, (src, dst)), shape=(num_nodes, num_nodes),dtype=np.uint32)\n",
    "csr = coo.tocsr()\n",
    "\n",
    "indptr = csr.indptr\n",
    "indices = csr.indices"
   ]
  },
  {
   "cell_type": "code",
   "execution_count": null,
   "metadata": {},
   "outputs": [],
   "source": [
    "indptr.astype('uint32').tofile(output_dir + 'indptr.bin')\n",
    "indices.astype('uint32').tofile(output_dir + 'indices.bin')"
   ]
  }
 ]
}