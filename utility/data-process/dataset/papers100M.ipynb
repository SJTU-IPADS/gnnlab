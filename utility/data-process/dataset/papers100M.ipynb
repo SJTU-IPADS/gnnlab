{
 "cells": [
  {
   "cell_type": "code",
   "execution_count": 1,
   "metadata": {},
   "outputs": [],
   "source": [
    "import numpy as np\n",
    "import pandas as pd\n",
    "from scipy.sparse import coo_matrix, csr_matrix"
   ]
  },
  {
   "cell_type": "code",
   "execution_count": 2,
   "metadata": {},
   "outputs": [],
   "source": [
    "src_dir = '/graph-learning/data-raw/papers100M-bin/'\n",
    "output_dir = '/graph-learning/samgraph/papers100M/'"
   ]
  },
  {
   "cell_type": "code",
   "execution_count": null,
   "metadata": {},
   "outputs": [],
   "source": [
    "file0 = np.load(src_dir + 'raw/data.npz')\n",
    "file1 = np.load(src_dir + 'raw/node-label.npz')\n",
    "\n",
    "features = file0['node_feat']\n",
    "edge_index = file0['edge_index']\n",
    "label = file1['node_label']\n",
    "\n",
    "src = edge_index[0]\n",
    "dst = edge_index[1]\n",
    "data = np.zeros(src.shape)\n",
    "\n",
    "train_idx = pd.read_csv(src_dir + 'split/time/train.csv.gz', compression='gzip', header = None).values.T[0]\n",
    "valid_idx = pd.read_csv(src_dir + 'split/time/valid.csv.gz', compression='gzip', header = None).values.T[0]\n",
    "test_idx = pd.read_csv(src_dir + 'split/time/test.csv.gz', compression='gzip', header = None).values.T[0]"
   ]
  },
  {
   "cell_type": "code",
   "execution_count": 7,
   "metadata": {},
   "outputs": [],
   "source": [
    "# convert to csc graph swap src and dst\n",
    "coo = coo_matrix((data, (dst, src)), shape=(feature.shape[0], feature.shape[0]),dtype=np.uint32)\n",
    "csr = coo.tocsr()\n",
    "\n",
    "indptr = csr.indptr\n",
    "indices = csr.indices\n",
    "\n",
    "indptr.astype('uint32').tofile(output_dir + 'indptr.bin')\n",
    "indices.astype('uint32').tofile(output_dir + 'indices.bin')"
   ]
  },
  {
   "cell_type": "code",
   "execution_count": null,
   "metadata": {},
   "outputs": [],
   "source": [
    "src.sha"
   ]
  },
  {
   "cell_type": "code",
   "execution_count": null,
   "metadata": {},
   "outputs": [],
   "source": [
    "train_idx.astype('uint32').tofile(output_dir + 'train_set.bin')\n",
    "valid_idx.astype('uint32').tofile(output_dir + 'valid_set.bin')\n",
    "test_idx.astype('uint32').tofile(output_dir + 'test_set.bin')"
   ]
  },
  {
   "cell_type": "code",
   "execution_count": null,
   "metadata": {},
   "outputs": [],
   "source": [
    "features.astype('float32').tofile(output_dir + 'feat.bin')\n",
    "label.astype('uint64').tofile(output_dir + 'label.bin')"
   ]
  }
 ],
 "metadata": {
  "kernelspec": {
   "display_name": "Python 3",
   "language": "python",
   "name": "python3"
  },
  "language_info": {
   "codemirror_mode": {
    "name": "ipython",
    "version": 3
   },
   "file_extension": ".py",
   "mimetype": "text/x-python",
   "name": "python",
   "nbconvert_exporter": "python",
   "pygments_lexer": "ipython3",
   "version": "3.8.3"
  }
 },
 "nbformat": 4,
 "nbformat_minor": 4
}