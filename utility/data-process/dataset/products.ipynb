{
 "cells": [
  {
   "cell_type": "code",
   "execution_count": null,
   "metadata": {},
   "outputs": [],
   "source": [
    "import numpy as np\n",
    "import pandas as pd\n",
    "from scipy.sparse import coo_matrix, csr_matrix"
   ]
  },
  {
   "cell_type": "code",
   "execution_count": null,
   "metadata": {},
   "outputs": [],
   "source": [
    "src_dir = '/graph-learning/data-raw/products/'\n",
    "output_dir = '/graph-learning/samgraph/products/'"
   ]
  },
  {
   "cell_type": "code",
   "execution_count": null,
   "metadata": {},
   "outputs": [],
   "source": [
    "edges = pd.read_csv(src_dir + 'raw/edge.csv.gz', compression='gzip', header = None).values.T\n",
    "feature = pd.read_csv(src_dir + 'raw/node-feat.csv.gz', compression='gzip', header = None).values\n",
    "label = pd.read_csv(src_dir + 'raw/node-label.csv.gz', compression='gzip', header = None).values.T[0]\n",
    " \n",
    "train_idx = pd.read_csv(src_dir + 'split/sales_ranking/train.csv.gz', compression='gzip', header = None).values.T[0]\n",
    "valid_idx = pd.read_csv(src_dir + 'split/sales_ranking/valid.csv.gz', compression='gzip', header = None).values.T[0]\n",
    "test_idx = pd.read_csv(src_dir + 'split/sales_ranking/test.csv.gz', compression='gzip', header = None).values.T[0]"
   ]
  },
  {
   "cell_type": "code",
   "execution_count": null,
   "metadata": {},
   "outputs": [],
   "source": [
    "# products is undirected, so we have to double its edges\n",
    "src = np.concatenate((edges[0], edges[1]))\n",
    "dst = np.concatenate((edges[1], edges[0]))\n",
    "data = np.zeros(src.shape)"
   ]
  },
  {
   "cell_type": "code",
   "execution_count": null,
   "metadata": {},
   "outputs": [],
   "source": [
    "# products is undirected, so we don't have to swap src and dst\n",
    "coo = coo_matrix((data, (src, dst)), shape=(feature.shape[0], feature.shape[0]),dtype=np.uint32)\n",
    "csr = coo.tocsr()\n",
    "\n",
    "indptr = csr.indptr\n",
    "indices = csr.indices"
   ]
  },
  {
   "cell_type": "code",
   "execution_count": null,
   "metadata": {},
   "outputs": [],
   "source": [
    "indptr.astype('uint32').tofile(output_dir + 'indptr.bin')\n",
    "indices.astype('uint32').tofile(output_dir + 'indices.bin')"
   ]
  },
  {
   "cell_type": "code",
   "execution_count": null,
   "metadata": {},
   "outputs": [],
   "source": [
    "train_idx.astype('uint32').tofile(output_dir + 'train_set.bin')\n",
    "valid_idx.astype('uint32').tofile(output_dir + 'valid_set.bin')\n",
    "test_idx.astype('uint32').tofile(output_dir + 'test_set.bin')"
   ]
  },
  {
   "cell_type": "code",
   "execution_count": null,
   "metadata": {},
   "outputs": [],
   "source": [
    "feature.astype('float32').tofile(output_dir + 'feat.bin')\n",
    "label.astype('uint64').tofile(output_dir + 'label.bin')"
   ]
  }
 ],
 "metadata": {
  "kernelspec": {
   "display_name": "Python 3",
   "language": "python",
   "name": "python3"
  },
  "language_info": {
   "codemirror_mode": {
    "name": "ipython",
    "version": 3
   },
   "file_extension": ".py",
   "mimetype": "text/x-python",
   "name": "python",
   "nbconvert_exporter": "python",
   "pygments_lexer": "ipython3",
   "version": "3.8.3"
  }
 },
 "nbformat": 4,
 "nbformat_minor": 4
}