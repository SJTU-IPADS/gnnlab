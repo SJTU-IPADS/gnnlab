{
 "cells": [
  {
   "cell_type": "code",
   "execution_count": null,
   "metadata": {},
   "outputs": [],
   "source": [
    "import numpy as np\n",
    "from scipy.sparse import coo_matrix, csr_matrix"
   ]
  },
  {
   "cell_type": "code",
   "execution_count": null,
   "metadata": {},
   "outputs": [],
   "source": [
    "src_dir = '/graph-learning/data-raw/reddit/'\n",
    "output_dir = '/graph-learning/samgraph/reddit/'"
   ]
  },
  {
   "cell_type": "code",
   "execution_count": null,
   "metadata": {},
   "outputs": [],
   "source": [
    "file0 = np.load(src_dir + 'reddit_graph.npz')\n",
    "file1 = np.load(src_dir + 'reddit_data.npz')"
   ]
  },
  {
   "cell_type": "code",
   "execution_count": null,
   "metadata": {},
   "outputs": [],
   "source": [
    "feature = file1['feature']\n",
    "label = file1['label']\n",
    "node_ids = file1['node_types']\n",
    "\n",
    "row = file0['row']\n",
    "col = file0['col']\n",
    "data = file0['data']\n",
    "\n",
    "train_idx = np.where(node_ids == 1)[0]\n",
    "valid_idx = np.where(node_ids == 2)[0]\n",
    "test_idx = np.where(node_ids == 3)[0]"
   ]
  },
  {
   "cell_type": "code",
   "execution_count": null,
   "metadata": {},
   "outputs": [],
   "source": [
    "# swap col and row to make csc graph\n",
    "coo = coo_matrix((data, (col, row)), shape=(feature.shape[0], feature.shape[0]),dtype=np.uint32)\n",
    "csr = coo.tocsr()\n",
    "\n",
    "indptr = csr.indptr\n",
    "indices = csr.indices"
   ]
  },
  {
   "cell_type": "code",
   "execution_count": null,
   "metadata": {},
   "outputs": [],
   "source": [
    "indptr.astype('uint32').tofile(output_dir + 'indptr.bin')\n",
    "indices.astype('uint32').tofile(output_dir + 'indices.bin')"
   ]
  },
  {
   "cell_type": "code",
   "execution_count": null,
   "metadata": {},
   "outputs": [],
   "source": [
    "train_idx.astype('uint32').tofile(output_dir + 'train_set.bin')\n",
    "valid_idx.astype('uint32').tofile(output_dir + 'valid_set.bin')\n",
    "test_idx.astype('uint32').tofile(output_dir + 'test_set.bin')"
   ]
  },
  {
   "cell_type": "code",
   "execution_count": null,
   "metadata": {},
   "outputs": [],
   "source": [
    "feature.astype('float32').tofile(output_dir + 'feat.bin')\n",
    "label.astype('uint64').tofile(output_dir + 'label.bin')"
   ]
  }
 ],
 "metadata": {
  "kernelspec": {
   "display_name": "Python 3",
   "language": "python",
   "name": "python3"
  },
  "language_info": {
   "codemirror_mode": {
    "name": "ipython",
    "version": 3
   },
   "file_extension": ".py",
   "mimetype": "text/x-python",
   "name": "python",
   "nbconvert_exporter": "python",
   "pygments_lexer": "ipython3",
   "version": "3.8.3"
  }
 },
 "nbformat": 4,
 "nbformat_minor": 4
}